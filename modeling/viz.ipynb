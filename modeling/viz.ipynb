{
 "cells": [
  {
   "cell_type": "code",
   "execution_count": 1,
   "metadata": {},
   "outputs": [],
   "source": [
    "import pandas as pd\n",
    "import seaborn as sns\n",
    "import matplotlib.pyplot as plt\n",
    "from scipy.signal import resample\n",
    "from typing import Literal"
   ]
  },
  {
   "cell_type": "markdown",
   "metadata": {},
   "source": [
    "# Per Person Analysis"
   ]
  },
  {
   "cell_type": "code",
   "execution_count": 2,
   "metadata": {},
   "outputs": [],
   "source": [
    "def parse_stimuli(df: pd.DataFrame):\n",
    "    stimuli_val = df.value.str.split(\"-\")\n",
    "    df[\"modality\"] = stimuli_val.map(lambda x: x[0])\n",
    "    df[\"word\"] = stimuli_val.map(lambda x: x[1])\n",
    "    del df['value']\n",
    "    return df\n",
    "\n",
    "def load_data(experiment: str):\n",
    "    attention = pd.read_csv(f'data/{experiment}/attention.csv', parse_dates=[\"timestamp\"], index_col=[\"timestamp\"])\n",
    "    raw = pd.read_csv(f'data/{experiment}/raw-values.csv', parse_dates=[\"timestamp\"], index_col=[\"timestamp\"])\n",
    "\n",
    "    stimuli = pd.read_csv(f'data/{experiment}/stimuli.csv', parse_dates=[\"timestamp\"], index_col=[\"timestamp\"])\n",
    "    stimuli = parse_stimuli(stimuli)\n",
    "    \n",
    "    return stimuli, attention, raw"
   ]
  },
  {
   "cell_type": "code",
   "execution_count": 3,
   "metadata": {},
   "outputs": [],
   "source": [
    "def filter_trials(stimuli_df: pd.DataFrame, modality: Literal['SAY', 'THINK']):\n",
    "    return stimuli_df[stimuli_df.modality == modality]"
   ]
  },
  {
   "cell_type": "code",
   "execution_count": 4,
   "metadata": {},
   "outputs": [],
   "source": [
    "MS = pd.Timedelta(1, 'ms')\n",
    "def clip_trial(df: pd.DataFrame, trial_onset: pd.Timestamp):\n",
    "    df = df[trial_onset - (1000 * MS):trial_onset + (2000 * MS)]\n",
    "    return df"
   ]
  },
  {
   "cell_type": "code",
   "execution_count": 14,
   "metadata": {},
   "outputs": [],
   "source": [
    "palette = {'YES': '#44546A', 'STOP': '#FF7C80' }\n",
    "def plot_avg_trial(stimuli: pd.DataFrame, values: pd.DataFrame, do_resample = False):\n",
    "    trials = [clip_trial(values, x).reset_index(drop=True) for x in stimuli.index]\n",
    "    if do_resample:\n",
    "        resample_len = min([x.shape[0] for x in trials]) // 2\n",
    "        trials = [\n",
    "            pd.Series(resample(x['value'], resample_len))\n",
    "            for x in trials\n",
    "        ]\n",
    "    trials = pd.concat(trials, axis=1, ignore_index=True).T\n",
    "    trials = trials.set_index(stimuli.word)\n",
    "    trials = trials.stack().reset_index()\n",
    "    plt = sns.lineplot(data=trials, x='level_1', y=0, hue='word', palette=palette)\n",
    "    return plt"
   ]
  },
  {
   "cell_type": "markdown",
   "metadata": {},
   "source": [
    "<hr />"
   ]
  },
  {
   "cell_type": "code",
   "execution_count": 15,
   "metadata": {},
   "outputs": [],
   "source": [
    "def plot_experiment(experiment: str):\n",
    "    stimuli, attention, raw = load_data(experiment)\n",
    "    \n",
    "    # == YES/STOP SPOKEN TRIALS ==\n",
    "    df = filter_trials(stimuli, 'SAY')\n",
    "\n",
    "    # Raw\n",
    "    fig = plot_avg_trial(df, raw, True)\n",
    "    fig.set(xlabel='Observation', ylabel='Power', title='Spoken Raw EEG Power')\n",
    "    plt.savefig(f'{experiment}-eeg-spoken.png')\n",
    "    plt.clf()\n",
    "\n",
    "    # Attention\n",
    "    fig = plot_avg_trial(df, attention)\n",
    "    fig.set(xlabel='Observation', ylabel='Strength', title='Spoken Neurolink Attention Strength')\n",
    "    plt.savefig(f'{experiment}-attention-spoken.png')\n",
    "    plt.clf()\n",
    "\n",
    "    # == YES/STOP IMAGINED TRIALS ==\n",
    "    df = filter_trials(stimuli, 'THINK')\n",
    "\n",
    "    # Raw\n",
    "    fig = plot_avg_trial(df, raw, True)\n",
    "    fig.set(xlabel='Observation', ylabel='Power', title='Imagined Raw EEG Power')\n",
    "    plt.savefig(f'{experiment}-eeg-imagined.png')\n",
    "    plt.clf()\n",
    "\n",
    "    # Attention\n",
    "    fig = plot_avg_trial(df, attention)\n",
    "    fig.set(xlabel='Observation', ylabel='Strength', title='Imagined Neurolink Attention Strength')\n",
    "    plt.savefig(f'{experiment}-attention-imagined.png')\n",
    "    plt.clf()"
   ]
  },
  {
   "cell_type": "markdown",
   "metadata": {},
   "source": [
    "<hr />"
   ]
  },
  {
   "cell_type": "code",
   "execution_count": 17,
   "metadata": {},
   "outputs": [
    {
     "data": {
      "text/plain": [
       "<Figure size 432x288 with 0 Axes>"
      ]
     },
     "metadata": {},
     "output_type": "display_data"
    }
   ],
   "source": [
    "for experiment in [f'subject-{x}' for x in range(1, 8)]:\n",
    "    plot_experiment(experiment)"
   ]
  },
  {
   "cell_type": "markdown",
   "metadata": {},
   "source": [
    "# Large Analysis"
   ]
  },
  {
   "cell_type": "code",
   "execution_count": 42,
   "metadata": {},
   "outputs": [],
   "source": [
    "combined = [load_data(experiment) for experiment in [f'subject-{x}' for x in range(1, 8)]]\n",
    "stimuli = pd.concat([x[0] for x in combined], axis=0).sort_index()\n",
    "attention = pd.concat([x[1] for x in combined], axis=0).sort_index()\n",
    "raw = pd.concat([x[2] for x in combined], axis=0).sort_index()"
   ]
  },
  {
   "cell_type": "code",
   "execution_count": 43,
   "metadata": {},
   "outputs": [],
   "source": [
    "# == YES/STOP SPOKEN TRIALS ==\n",
    "df = filter_trials(stimuli, 'SAY')\n",
    "\n",
    "# Raw\n",
    "fig = plot_avg_trial(df, raw, True)\n",
    "fig.set(xlabel='Observation', ylabel='Power', title='Spoken Raw EEG Power')\n",
    "plt.savefig(f'global-eeg-spoken.png')\n",
    "plt.clf()\n",
    "\n",
    "# Attention\n",
    "fig = plot_avg_trial(df, attention)\n",
    "fig.set(xlabel='Observation', ylabel='Strength', title='Spoken Neurolink Attention Strength')\n",
    "plt.savefig(f'global-attention-spoken.png')\n",
    "plt.clf()\n",
    "\n",
    "# == YES/STOP IMAGINED TRIALS ==\n",
    "df = filter_trials(stimuli, 'THINK')\n",
    "\n",
    "# Raw\n",
    "fig = plot_avg_trial(df, raw, True)\n",
    "fig.set(xlabel='Observation', ylabel='Power', title='Imagined Raw EEG Power')\n",
    "plt.savefig(f'global-eeg-imagined.png')\n",
    "plt.clf()\n",
    "\n",
    "# Attention\n",
    "fig = plot_avg_trial(df, attention)\n",
    "fig.set(xlabel='Observation', ylabel='Strength', title='Imagined Neurolink Attention Strength')\n",
    "plt.savefig(f'global-attention-imagined.png')\n",
    "plt.clf()"
   ]
  },
  {
   "cell_type": "code",
   "execution_count": null,
   "metadata": {},
   "outputs": [],
   "source": []
  }
 ],
 "metadata": {
  "interpreter": {
   "hash": "987404ccb9644362aef444aa05c12fd81f4e446c04eea166b322eb4280cd1c7c"
  },
  "kernelspec": {
   "display_name": "Python 3.10.2 ('cogs189-FlmlmDaE-py3.10')",
   "language": "python",
   "name": "python3"
  },
  "language_info": {
   "codemirror_mode": {
    "name": "ipython",
    "version": 3
   },
   "file_extension": ".py",
   "mimetype": "text/x-python",
   "name": "python",
   "nbconvert_exporter": "python",
   "pygments_lexer": "ipython3",
   "version": "3.10.2"
  },
  "orig_nbformat": 4
 },
 "nbformat": 4,
 "nbformat_minor": 2
}
